{
  "nbformat": 4,
  "nbformat_minor": 0,
  "metadata": {
    "accelerator": "GPU",
    "colab": {
      "name": "Step03 “Lucid Sonic Dreams”",
      "provenance": [],
      "collapsed_sections": [
        "H1OB-5oZxV0y",
        "PByrKtjcuMP8"
      ]
    },
    "kernelspec": {
      "display_name": "Python 3",
      "name": "python3"
    },
    "gpuClass": "standard"
  },
  "cells": [
    {
      "cell_type": "markdown",
      "metadata": {
        "id": "kSBBXrcy1ssE"
      },
      "source": [
        "# A. Set-Up"
      ]
    },
    {
      "cell_type": "markdown",
      "metadata": {
        "id": "0kBYttBTtlho"
      },
      "source": [
        "## A.1. Set-up GPU\n",
        "\n",
        "Navigate to **Runtime -> Change runtime type** and make sure **Hardware accelerator** is set to GPU."
      ]
    },
    {
      "cell_type": "markdown",
      "metadata": {
        "id": "H1OB-5oZxV0y"
      },
      "source": [
        "## A.2. Download Sample Audio Preview Files"
      ]
    },
    {
      "cell_type": "code",
      "source": [
        "from google.colab import drive\n",
        "drive.mount('/content/drive')"
      ],
      "metadata": {
        "colab": {
          "base_uri": "https://localhost:8080/"
        },
        "id": "GW-pa58FNhdV",
        "outputId": "54531d07-434d-4430-91ae-7ccfd5269968"
      },
      "execution_count": null,
      "outputs": [
        {
          "output_type": "stream",
          "name": "stdout",
          "text": [
            "Drive already mounted at /content/drive; to attempt to forcibly remount, call drive.mount(\"/content/drive\", force_remount=True).\n"
          ]
        }
      ]
    },
    {
      "cell_type": "code",
      "metadata": {
        "id": "Ldjd9LiHxZNG",
        "colab": {
          "base_uri": "https://localhost:8080/"
        },
        "outputId": "f4f45bd5-b1b4-40b6-a857-d1d9a10274e0"
      },
      "source": [
        "## CHEMICAL LOVE - BASICALLY SATURDAY NIGHT ## \n",
        "\n",
        "! gdown --id 1aTWrzCvJyYcQ82PS6av3YJrtsON2_CUK\n",
        "\n",
        "## PANCAKE FEET - TENNYSSON ## \n",
        "\n",
        "! gdown --id 14MqCkuREr1TmuWaxZd8bnuhVlL_vCE9s\n",
        "\n",
        "## RASPBERRY - SAJE ## \n",
        "\n",
        "! gdown --id 1GqRi4VFEbw46e9RRvuGPtNc7TuOKFbjl\n",
        "\n",
        "## LUCID SONIC DREAMS DEMO TRACK ##\n",
        "\n",
        "# Main File\n",
        "! gdown --id 1Vc2yC2F5iO0ScC5F0CzF_YB1YPGI2uUP\n",
        "\n",
        "# Pulse File \n",
        "! gdown --id 1FY5MO6XqVu9abbdNQQY6C99RHxFGm36o\n",
        "\n",
        "# Class File\n",
        "! gdown --id 1-qwcs8_Va58YqkHMdXDm9uef-RcH01gh\n",
        "\n",
        "## SEA OF VOICES - PORTER ROBINSON ##\n",
        "\n",
        "# Instrumental (Main Audio)\n",
        "! gdown --id 13-kS5-3Tw2x9kEVfE3ZMkUN955nw73mN\n",
        "\n",
        "# Original (Output Audio)\n",
        "! gdown --id 1r0Mo-vtUIf2njqJ0h3hPJuQELcJ8K2Gu\n",
        "\n",
        "## UNFAITH - EKALI ## \n",
        "! gdown --id 1rgwrhtnVwK2Dom9pJ7p2CBF0j7F2vdkM\n",
        "\n",
        "\n"
      ],
      "execution_count": null,
      "outputs": [
        {
          "output_type": "stream",
          "name": "stdout",
          "text": [
            "/usr/local/lib/python3.7/dist-packages/gdown/cli.py:131: FutureWarning: Option `--id` was deprecated in version 4.3.1 and will be removed in 5.0. You don't need to pass it anymore to use a file ID.\n",
            "  category=FutureWarning,\n",
            "Downloading...\n",
            "From: https://drive.google.com/uc?id=1aTWrzCvJyYcQ82PS6av3YJrtsON2_CUK\n",
            "To: /content/chemical_love.wav\n",
            "100% 15.9M/15.9M [00:00<00:00, 140MB/s]\n",
            "/usr/local/lib/python3.7/dist-packages/gdown/cli.py:131: FutureWarning: Option `--id` was deprecated in version 4.3.1 and will be removed in 5.0. You don't need to pass it anymore to use a file ID.\n",
            "  category=FutureWarning,\n",
            "Downloading...\n",
            "From: https://drive.google.com/uc?id=14MqCkuREr1TmuWaxZd8bnuhVlL_vCE9s\n",
            "To: /content/pancake_feet.mp3\n",
            "100% 961k/961k [00:00<00:00, 161MB/s]\n",
            "/usr/local/lib/python3.7/dist-packages/gdown/cli.py:131: FutureWarning: Option `--id` was deprecated in version 4.3.1 and will be removed in 5.0. You don't need to pass it anymore to use a file ID.\n",
            "  category=FutureWarning,\n",
            "Downloading...\n",
            "From: https://drive.google.com/uc?id=1GqRi4VFEbw46e9RRvuGPtNc7TuOKFbjl\n",
            "To: /content/raspberry.mp3\n",
            "100% 2.16M/2.16M [00:00<00:00, 226MB/s]\n",
            "/usr/local/lib/python3.7/dist-packages/gdown/cli.py:131: FutureWarning: Option `--id` was deprecated in version 4.3.1 and will be removed in 5.0. You don't need to pass it anymore to use a file ID.\n",
            "  category=FutureWarning,\n",
            "Downloading...\n",
            "From: https://drive.google.com/uc?id=1Vc2yC2F5iO0ScC5F0CzF_YB1YPGI2uUP\n",
            "To: /content/lucidsonicdreams_main.mp3\n",
            "100% 5.97M/5.97M [00:00<00:00, 134MB/s]\n",
            "/usr/local/lib/python3.7/dist-packages/gdown/cli.py:131: FutureWarning: Option `--id` was deprecated in version 4.3.1 and will be removed in 5.0. You don't need to pass it anymore to use a file ID.\n",
            "  category=FutureWarning,\n",
            "Downloading...\n",
            "From: https://drive.google.com/uc?id=1FY5MO6XqVu9abbdNQQY6C99RHxFGm36o\n",
            "To: /content/lucidsonicdreams_pulse.mp3\n",
            "100% 5.97M/5.97M [00:00<00:00, 80.9MB/s]\n",
            "/usr/local/lib/python3.7/dist-packages/gdown/cli.py:131: FutureWarning: Option `--id` was deprecated in version 4.3.1 and will be removed in 5.0. You don't need to pass it anymore to use a file ID.\n",
            "  category=FutureWarning,\n",
            "Downloading...\n",
            "From: https://drive.google.com/uc?id=1-qwcs8_Va58YqkHMdXDm9uef-RcH01gh\n",
            "To: /content/lucidsonicdreams_class.mp3\n",
            "100% 5.97M/5.97M [00:00<00:00, 87.3MB/s]\n",
            "/usr/local/lib/python3.7/dist-packages/gdown/cli.py:131: FutureWarning: Option `--id` was deprecated in version 4.3.1 and will be removed in 5.0. You don't need to pass it anymore to use a file ID.\n",
            "  category=FutureWarning,\n",
            "Downloading...\n",
            "From: https://drive.google.com/uc?id=13-kS5-3Tw2x9kEVfE3ZMkUN955nw73mN\n",
            "To: /content/sea_of_voices_inst.mp3\n",
            "100% 961k/961k [00:00<00:00, 163MB/s]\n",
            "/usr/local/lib/python3.7/dist-packages/gdown/cli.py:131: FutureWarning: Option `--id` was deprecated in version 4.3.1 and will be removed in 5.0. You don't need to pass it anymore to use a file ID.\n",
            "  category=FutureWarning,\n",
            "Downloading...\n",
            "From: https://drive.google.com/uc?id=1r0Mo-vtUIf2njqJ0h3hPJuQELcJ8K2Gu\n",
            "To: /content/sea_of_voices.mp3\n",
            "100% 961k/961k [00:00<00:00, 157MB/s]\n",
            "/usr/local/lib/python3.7/dist-packages/gdown/cli.py:131: FutureWarning: Option `--id` was deprecated in version 4.3.1 and will be removed in 5.0. You don't need to pass it anymore to use a file ID.\n",
            "  category=FutureWarning,\n",
            "Downloading...\n",
            "From: https://drive.google.com/uc?id=1rgwrhtnVwK2Dom9pJ7p2CBF0j7F2vdkM\n",
            "To: /content/unfaith.mp3\n",
            "100% 1.44M/1.44M [00:00<00:00, 200MB/s]\n"
          ]
        }
      ]
    },
    {
      "cell_type": "markdown",
      "metadata": {
        "id": "PByrKtjcuMP8"
      },
      "source": [
        "## A.3. Install Lucid Sonic Dreams"
      ]
    },
    {
      "cell_type": "code",
      "metadata": {
        "id": "50buTzTKOf6x",
        "colab": {
          "base_uri": "https://localhost:8080/"
        },
        "outputId": "4a8bcbf7-f913-43de-aa55-745560dccdcf"
      },
      "source": [
        "! pip install lucidsonicdreams"
      ],
      "execution_count": null,
      "outputs": [
        {
          "output_type": "stream",
          "name": "stdout",
          "text": [
            "Looking in indexes: https://pypi.org/simple, https://us-python.pkg.dev/colab-wheels/public/simple/\n",
            "Requirement already satisfied: lucidsonicdreams in /usr/local/lib/python3.7/dist-packages (0.4)\n",
            "Requirement already satisfied: SoundFile in /usr/local/lib/python3.7/dist-packages (from lucidsonicdreams) (0.10.3.post1)\n",
            "Requirement already satisfied: tensorflow==1.15 in /usr/local/lib/python3.7/dist-packages (from lucidsonicdreams) (1.15.0)\n",
            "Requirement already satisfied: pygit2 in /usr/local/lib/python3.7/dist-packages (from lucidsonicdreams) (1.9.2)\n",
            "Requirement already satisfied: pandas in /usr/local/lib/python3.7/dist-packages (from lucidsonicdreams) (1.3.5)\n",
            "Requirement already satisfied: gdown in /usr/local/lib/python3.7/dist-packages (from lucidsonicdreams) (4.4.0)\n",
            "Requirement already satisfied: scipy in /usr/local/lib/python3.7/dist-packages (from lucidsonicdreams) (1.4.1)\n",
            "Requirement already satisfied: Pillow in /usr/local/lib/python3.7/dist-packages (from lucidsonicdreams) (7.1.2)\n",
            "Requirement already satisfied: tqdm in /usr/local/lib/python3.7/dist-packages (from lucidsonicdreams) (4.64.0)\n",
            "Requirement already satisfied: librosa in /usr/local/lib/python3.7/dist-packages (from lucidsonicdreams) (0.8.1)\n",
            "Requirement already satisfied: moviepy in /usr/local/lib/python3.7/dist-packages (from lucidsonicdreams) (0.2.3.5)\n",
            "Requirement already satisfied: scikit-image in /usr/local/lib/python3.7/dist-packages (from lucidsonicdreams) (0.18.3)\n",
            "Requirement already satisfied: mega.py in /usr/local/lib/python3.7/dist-packages (from lucidsonicdreams) (1.0.8)\n",
            "Requirement already satisfied: requests in /usr/local/lib/python3.7/dist-packages (from lucidsonicdreams) (2.23.0)\n",
            "Requirement already satisfied: numpy in /usr/local/lib/python3.7/dist-packages (from lucidsonicdreams) (1.21.6)\n",
            "Requirement already satisfied: protobuf>=3.6.1 in /usr/local/lib/python3.7/dist-packages (from tensorflow==1.15->lucidsonicdreams) (3.17.3)\n",
            "Requirement already satisfied: wheel>=0.26 in /usr/local/lib/python3.7/dist-packages (from tensorflow==1.15->lucidsonicdreams) (0.37.1)\n",
            "Requirement already satisfied: termcolor>=1.1.0 in /usr/local/lib/python3.7/dist-packages (from tensorflow==1.15->lucidsonicdreams) (1.1.0)\n",
            "Requirement already satisfied: tensorflow-estimator==1.15.1 in /usr/local/lib/python3.7/dist-packages (from tensorflow==1.15->lucidsonicdreams) (1.15.1)\n",
            "Requirement already satisfied: keras-applications>=1.0.8 in /usr/local/lib/python3.7/dist-packages (from tensorflow==1.15->lucidsonicdreams) (1.0.8)\n",
            "Requirement already satisfied: opt-einsum>=2.3.2 in /usr/local/lib/python3.7/dist-packages (from tensorflow==1.15->lucidsonicdreams) (3.3.0)\n",
            "Requirement already satisfied: tensorboard<1.16.0,>=1.15.0 in /usr/local/lib/python3.7/dist-packages (from tensorflow==1.15->lucidsonicdreams) (1.15.0)\n",
            "Requirement already satisfied: six>=1.10.0 in /usr/local/lib/python3.7/dist-packages (from tensorflow==1.15->lucidsonicdreams) (1.15.0)\n",
            "Requirement already satisfied: gast==0.2.2 in /usr/local/lib/python3.7/dist-packages (from tensorflow==1.15->lucidsonicdreams) (0.2.2)\n",
            "Requirement already satisfied: grpcio>=1.8.6 in /usr/local/lib/python3.7/dist-packages (from tensorflow==1.15->lucidsonicdreams) (1.46.3)\n",
            "Requirement already satisfied: absl-py>=0.7.0 in /usr/local/lib/python3.7/dist-packages (from tensorflow==1.15->lucidsonicdreams) (1.1.0)\n",
            "Requirement already satisfied: wrapt>=1.11.1 in /usr/local/lib/python3.7/dist-packages (from tensorflow==1.15->lucidsonicdreams) (1.14.1)\n",
            "Requirement already satisfied: keras-preprocessing>=1.0.5 in /usr/local/lib/python3.7/dist-packages (from tensorflow==1.15->lucidsonicdreams) (1.1.2)\n",
            "Requirement already satisfied: astor>=0.6.0 in /usr/local/lib/python3.7/dist-packages (from tensorflow==1.15->lucidsonicdreams) (0.8.1)\n",
            "Requirement already satisfied: google-pasta>=0.1.6 in /usr/local/lib/python3.7/dist-packages (from tensorflow==1.15->lucidsonicdreams) (0.2.0)\n",
            "Requirement already satisfied: h5py in /usr/local/lib/python3.7/dist-packages (from keras-applications>=1.0.8->tensorflow==1.15->lucidsonicdreams) (3.1.0)\n",
            "Requirement already satisfied: markdown>=2.6.8 in /usr/local/lib/python3.7/dist-packages (from tensorboard<1.16.0,>=1.15.0->tensorflow==1.15->lucidsonicdreams) (3.3.7)\n",
            "Requirement already satisfied: setuptools>=41.0.0 in /usr/local/lib/python3.7/dist-packages (from tensorboard<1.16.0,>=1.15.0->tensorflow==1.15->lucidsonicdreams) (57.4.0)\n",
            "Requirement already satisfied: werkzeug>=0.11.15 in /usr/local/lib/python3.7/dist-packages (from tensorboard<1.16.0,>=1.15.0->tensorflow==1.15->lucidsonicdreams) (1.0.1)\n",
            "Requirement already satisfied: importlib-metadata>=4.4 in /usr/local/lib/python3.7/dist-packages (from markdown>=2.6.8->tensorboard<1.16.0,>=1.15.0->tensorflow==1.15->lucidsonicdreams) (4.11.4)\n",
            "Requirement already satisfied: typing-extensions>=3.6.4 in /usr/local/lib/python3.7/dist-packages (from importlib-metadata>=4.4->markdown>=2.6.8->tensorboard<1.16.0,>=1.15.0->tensorflow==1.15->lucidsonicdreams) (4.1.1)\n",
            "Requirement already satisfied: zipp>=0.5 in /usr/local/lib/python3.7/dist-packages (from importlib-metadata>=4.4->markdown>=2.6.8->tensorboard<1.16.0,>=1.15.0->tensorflow==1.15->lucidsonicdreams) (3.8.0)\n",
            "Requirement already satisfied: beautifulsoup4 in /usr/local/lib/python3.7/dist-packages (from gdown->lucidsonicdreams) (4.6.3)\n",
            "Requirement already satisfied: filelock in /usr/local/lib/python3.7/dist-packages (from gdown->lucidsonicdreams) (3.7.1)\n",
            "Requirement already satisfied: cached-property in /usr/local/lib/python3.7/dist-packages (from h5py->keras-applications>=1.0.8->tensorflow==1.15->lucidsonicdreams) (1.5.2)\n",
            "Requirement already satisfied: joblib>=0.14 in /usr/local/lib/python3.7/dist-packages (from librosa->lucidsonicdreams) (1.1.0)\n",
            "Requirement already satisfied: numba>=0.43.0 in /usr/local/lib/python3.7/dist-packages (from librosa->lucidsonicdreams) (0.51.2)\n",
            "Requirement already satisfied: audioread>=2.0.0 in /usr/local/lib/python3.7/dist-packages (from librosa->lucidsonicdreams) (2.1.9)\n",
            "Requirement already satisfied: decorator>=3.0.0 in /usr/local/lib/python3.7/dist-packages (from librosa->lucidsonicdreams) (4.4.2)\n",
            "Requirement already satisfied: resampy>=0.2.2 in /usr/local/lib/python3.7/dist-packages (from librosa->lucidsonicdreams) (0.2.2)\n",
            "Requirement already satisfied: pooch>=1.0 in /usr/local/lib/python3.7/dist-packages (from librosa->lucidsonicdreams) (1.6.0)\n",
            "Requirement already satisfied: packaging>=20.0 in /usr/local/lib/python3.7/dist-packages (from librosa->lucidsonicdreams) (21.3)\n",
            "Requirement already satisfied: scikit-learn!=0.19.0,>=0.14.0 in /usr/local/lib/python3.7/dist-packages (from librosa->lucidsonicdreams) (1.0.2)\n",
            "Requirement already satisfied: llvmlite<0.35,>=0.34.0.dev0 in /usr/local/lib/python3.7/dist-packages (from numba>=0.43.0->librosa->lucidsonicdreams) (0.34.0)\n",
            "Requirement already satisfied: pyparsing!=3.0.5,>=2.0.2 in /usr/local/lib/python3.7/dist-packages (from packaging>=20.0->librosa->lucidsonicdreams) (3.0.9)\n",
            "Requirement already satisfied: appdirs>=1.3.0 in /usr/local/lib/python3.7/dist-packages (from pooch>=1.0->librosa->lucidsonicdreams) (1.4.4)\n",
            "Requirement already satisfied: certifi>=2017.4.17 in /usr/local/lib/python3.7/dist-packages (from requests->lucidsonicdreams) (2022.6.15)\n",
            "Requirement already satisfied: idna<3,>=2.5 in /usr/local/lib/python3.7/dist-packages (from requests->lucidsonicdreams) (2.10)\n",
            "Requirement already satisfied: chardet<4,>=3.0.2 in /usr/local/lib/python3.7/dist-packages (from requests->lucidsonicdreams) (3.0.4)\n",
            "Requirement already satisfied: urllib3!=1.25.0,!=1.25.1,<1.26,>=1.21.1 in /usr/local/lib/python3.7/dist-packages (from requests->lucidsonicdreams) (1.24.3)\n",
            "Requirement already satisfied: threadpoolctl>=2.0.0 in /usr/local/lib/python3.7/dist-packages (from scikit-learn!=0.19.0,>=0.14.0->librosa->lucidsonicdreams) (3.1.0)\n",
            "Requirement already satisfied: cffi>=1.0 in /usr/local/lib/python3.7/dist-packages (from SoundFile->lucidsonicdreams) (1.15.0)\n",
            "Requirement already satisfied: pycparser in /usr/local/lib/python3.7/dist-packages (from cffi>=1.0->SoundFile->lucidsonicdreams) (2.21)\n",
            "Requirement already satisfied: pathlib==1.0.1 in /usr/local/lib/python3.7/dist-packages (from mega.py->lucidsonicdreams) (1.0.1)\n",
            "Requirement already satisfied: tenacity<6.0.0,>=5.1.5 in /usr/local/lib/python3.7/dist-packages (from mega.py->lucidsonicdreams) (5.1.5)\n",
            "Requirement already satisfied: pycryptodome<4.0.0,>=3.9.6 in /usr/local/lib/python3.7/dist-packages (from mega.py->lucidsonicdreams) (3.15.0)\n",
            "Requirement already satisfied: imageio<3.0,>=2.1.2 in /usr/local/lib/python3.7/dist-packages (from moviepy->lucidsonicdreams) (2.4.1)\n",
            "Requirement already satisfied: python-dateutil>=2.7.3 in /usr/local/lib/python3.7/dist-packages (from pandas->lucidsonicdreams) (2.8.2)\n",
            "Requirement already satisfied: pytz>=2017.3 in /usr/local/lib/python3.7/dist-packages (from pandas->lucidsonicdreams) (2022.1)\n",
            "Requirement already satisfied: PySocks!=1.5.7,>=1.5.6 in /usr/local/lib/python3.7/dist-packages (from requests->lucidsonicdreams) (1.7.1)\n",
            "Requirement already satisfied: tifffile>=2019.7.26 in /usr/local/lib/python3.7/dist-packages (from scikit-image->lucidsonicdreams) (2021.11.2)\n",
            "Requirement already satisfied: matplotlib!=3.0.0,>=2.0.0 in /usr/local/lib/python3.7/dist-packages (from scikit-image->lucidsonicdreams) (3.2.2)\n",
            "Requirement already satisfied: networkx>=2.0 in /usr/local/lib/python3.7/dist-packages (from scikit-image->lucidsonicdreams) (2.6.3)\n",
            "Requirement already satisfied: PyWavelets>=1.1.1 in /usr/local/lib/python3.7/dist-packages (from scikit-image->lucidsonicdreams) (1.3.0)\n",
            "Requirement already satisfied: kiwisolver>=1.0.1 in /usr/local/lib/python3.7/dist-packages (from matplotlib!=3.0.0,>=2.0.0->scikit-image->lucidsonicdreams) (1.4.3)\n",
            "Requirement already satisfied: cycler>=0.10 in /usr/local/lib/python3.7/dist-packages (from matplotlib!=3.0.0,>=2.0.0->scikit-image->lucidsonicdreams) (0.11.0)\n"
          ]
        }
      ]
    },
    {
      "cell_type": "markdown",
      "metadata": {
        "id": "63dO9FBu1Mv0"
      },
      "source": [
        "# B. Generate Sample Videos"
      ]
    },
    {
      "cell_type": "markdown",
      "metadata": {
        "id": "7AgAsUB54ej8"
      },
      "source": [
        "## B.1. Choosing a Style\n",
        "\n",
        "Styles can be selected using the **style** parameter, which takes in any of the following:\n",
        "\n",
        "*   A valid default style name provided by the package. Run **show_styles()** to print valid values. *Note: These styles are loaded from [this repository](https://github.com/justinpinkney/awesome-pretrained-stylegan2) by Justin Pinkney.*\n",
        "\n",
        "*   A path to a .pkl file that contains pre-trained StyleGAN weights\n",
        "\n",
        "*   A custom function that takes noise_batch and class_batch parameters and outputs a list of Pillow Images (see example in **B.5**)\n",
        "\n",
        "\n",
        "\n"
      ]
    },
    {
      "cell_type": "code",
      "metadata": {
        "id": "ak17n4mm81Hm",
        "colab": {
          "base_uri": "https://localhost:8080/"
        },
        "outputId": "91a4c2e1-082a-425a-ae42-da4a4561b592"
      },
      "source": [
        "from lucidsonicdreams import show_styles \n",
        "\n",
        "# Show valid default style names. \n",
        "show_styles()"
      ],
      "execution_count": null,
      "outputs": [
        {
          "output_type": "stream",
          "name": "stdout",
          "text": [
            "horse\n",
            "abstract art\n",
            "panda\n",
            "trypophobia\n",
            "fursona\n",
            "abstract photos\n",
            "cat\n",
            "faces (ffhq config-e 256x256)\n",
            "lsun bedrooms\n",
            "my little pony\n",
            "ukiyoe faces\n",
            "beetles\n",
            "cakes\n",
            "imagenet\n",
            "maps\n",
            "faces (ffhq config-f)\n",
            "microscope images\n",
            "doors\n",
            "lsun cats\n",
            "vases\n",
            "wildlife\n",
            "cifar 100\n",
            "faces (ffhq config-f 512x512)\n",
            "flowers\n",
            "butterflies\n",
            "celeba hq faces\n",
            "modern art\n",
            "floor plans\n",
            "ukiyo-e faces\n",
            "car (config-f)\n",
            "church\n",
            "anime portraits\n",
            "ffhq faces\n",
            "wikiart\n",
            "obama\n",
            "figure drawings\n",
            "grumpy cat\n",
            "wikiart faces\n",
            "textures\n",
            "more abstract art\n",
            "lsun cars\n",
            "faces (ffhq slim 256x256)\n",
            "anime faces\n",
            "fireworks\n",
            "cifar 10\n",
            "painting faces\n",
            "pokemon\n",
            "faces (ffhq config-e)\n",
            "car (config-e)\n"
          ]
        }
      ]
    },
    {
      "cell_type": "markdown",
      "metadata": {
        "id": "YNnHbJgB2EWk"
      },
      "source": [
        "## B.2. Using Default Settings\n",
        "\n",
        "This package is set-up so that the only arguments required are the **file path to your audio track** and the **file name of the video output**. This code snippet outputs a 45-second, low-resolution preview of a video using the \"modern art\" style, and all the other default settings.\n",
        "\n",
        "The song used here is **Chemical Love by Basically Saturday Night**. You can watch the official music video [here](https://youtu.be/Gi7oQrtyjKI), or listen to them on [Spotify](https://open.spotify.com/artist/46tGdhXAQbTvxVOGgy0Fqu?si=E8mUjbWbR2uiiMR2MUc_4w)!\n",
        "\n",
        "Click [here](https://youtu.be/oGXfOmqFYTg) to view a full-length sample video without having to run the code."
      ]
    },
    {
      "cell_type": "markdown",
      "metadata": {
        "id": "qCo0pQkHANuA"
      },
      "source": [
        "## B.3. Tuning Parameters - How It Works"
      ]
    },
    {
      "cell_type": "markdown",
      "metadata": {
        "id": "GuLiMg9CUXvG"
      },
      "source": [
        "There are **over 30 parameters** you can tune, offering tons of flexibility as to how you want your music to be visualized. This may seem like an overwhelming number, but things are easier to digest once you have a basic understanding of how the visualizer works.\n",
        "\n",
        "### So, how does it work? \n",
        "\n",
        "1. First, a batch of input vectors corresponding to output images is initialized. Linear interpolations between these vectors are produced, serving as the \"base\" vectors.\n",
        "2. Three components react to the audio: **Pulse**, **Motion**, and **Class**. These modify the \"base\" vectors accordingly.\n",
        "\n",
        "  *   **Pulse**, quite literally, refers to how the visuals \"pulse\" to the beat of the music. It is set to react to the audio's percussive elements by default. \n",
        "  *   **Motion** refers to how the visuals are \"pushed forward\" or \"sped up\" by the music, and is set to react to the audio's harmonic elements by default. \n",
        "  *   Finally, **Class** refers to the labels of objects shown in the generated images (e.g. in the case of the WikiArt style, classes can refer to Van Gogh, Andy Warhol, Da Vinci, etc). This is set to react to the audio's pitch, where each note controls the prominence of a class. *Note:* Among the default styles available, only WikiArt uses classes thus far.\n",
        "3. Finally, additional effects - such as contrast and flash - are added to the video. These are set to react to the audio's percussive elements by default.\n",
        "\n",
        "### The Parameters\n",
        "\n",
        "Now, the parameters can be easily understood by separating them into 7 categories: Initialization, Pulse, Motion, Class, Effects, Video, and Other. \n",
        "\n",
        "If this is still overwhelming, it's recommended that you start off by tuning **speed_fpm**, **pulse_react**, **motion_react** and **class_pitch_react**, and build from there. These parameters make the biggest difference.\n",
        "\n",
        "##### **Initialization**\n",
        "\n",
        "* **speed_fpm** (*Default: 12*) - FPM stands for \"Frames per Minute\". This determines how many images are initialized - the more there are, the faster the visuals morph. If **speed_fpm = 0**, then only one image is initialized, and that single image reacts to the audio. In this case, there will be no motion during silent parts of the audio.\n",
        "\n",
        "##### **Pulse Parameters**\n",
        "\n",
        "*   **pulse_react** (*Default: 0.5*) - The \"strength\" of the pulse. It is recommended to keep this between 0 and 2.\n",
        "*   **pulse_percussive** (*Default: True*) - If True while *pulse_harmonic* is False, pulse reacts to the audio's percussive elements.\n",
        "*   **pulse_harmonic** (*Default: False*) - If True while *pulse_percussive* is False, pulse reacts to the audio's harmonic elements.\n",
        "\n",
        "  *Note*: If both parameters are True or both parameters are False, pulse reacts to the \"entire\" unaltered audio.\n",
        "*   **pulse_audio** - Path to a separate audio file to be used to control pulse. This is recommended if you have access to an isolated drum/percussion track. If passed, *pulse_percussive* and *pulse_harmonic* are ignored. *Note:* this parameter is passed when defining the LucidSonicDream object.\n",
        "\n",
        "##### **Motion Parameters**\n",
        "\n",
        "*   **motion_react** (*0.5*), **motion_percussive** (*False*), **motion_harmonic** (*True*), and **motion_audio** - Simply the \"motion\" equivalents of the pulse parameters above. \n",
        "*   **motion_randomness** (*Default: 0.5*)- Degree of randomness of motion. Higher values will typically prevent the video from cycling through the same visuals repeatedly. Must range from 0 to 1.\n",
        "*   **truncation** (*Default: 1*) - Controls the variety of visuals generated. Lower values lead to lower variety. *Note*: A very low value will usually lead to \"jittery\" visuals. Must range from 0 to 1.\n",
        "\n",
        "##### **Class Parameters** \n",
        "\n",
        "*(Note: Most of these parameters were heavily inspired by the [Deep Music Visualizer](https://github.com/msieg/deep-music-visualizer) project by Matt Siegelman)*\n",
        "\n",
        "*   **classes** - List of at most 12 numerical object labels. If none, 12 labels are selected at random. \n",
        "*   **dominant_classes_first** (*Default: False*)- If True, the list passed to \"classes\" is sorted by prominence in descending order.\n",
        "*   **class_pitch_react** (*Default: 0.5*)- Class equivalent of pulse_react and motion_react. It is recommended to keep this between 0 and 2.\n",
        "*   **class_smooth_seconds** (*Default: 1*) - Number of seconds spent smoothly interpolating between each class vector. The higher the value, the less \"sudden\" the change of class.\n",
        "*   **class_complexity** (*Default: 1*) - Controls the \"complexity\" of images generated. Lower values tend to generate more simple and mundane images, while higher values tend to generate more intricate and bizzare objects. It is recommended to keep this between 0 and 1.\n",
        "*   **class_shuffle_seconds** (*Default: None*) - Controls the timestamps wherein the mapping of label to note is re-shuffled. This is recommended when the audio used has a limited range of pitches, but you wish for more classes to be shown. If the value passed is a number *n*, classes are shuffled every *n* seconds. If the value passed is a list of numbers, these numbers are used as timestamps (in seconds) wherein classes are shuffled.\n",
        "*   **class_shuffle_strength** (*Default: 0.5*) - Controls how drastically classes are re-shuffled. Only applies when class_shuffle_seconds is passed. It is recommended to keep this between 0 and 1.\n",
        "*   **class_audio** - Class equivalent of pulse_audio and motion_audio. Passed when defining the LucidSonicDream object. \n",
        "\n",
        "##### **Effects Parameters**\n",
        "\n",
        "*   **contrast_strength** (*Default: 0.5*) - Strength of default contrast effect. It is recommended to keep this between 0 and 1.\n",
        "*   **contrast_percussive** (*Default: True*) - If true, contrast reacts to the audio's percussive elements. Must range from 0 to 1.\n",
        "*   **contrast_audio** - Equivalent of previous \"audio\" arguments. Passed when defining the LucidSonicDream object.  \n",
        "\n",
        "  *Note*: If none of these arguments are passed, the contrast effect will not be applied. \n",
        "\n",
        "*   **flash_strength** (*0.5*), **flash_percussive** (*True*), and **flash_audio** - Equivalent of the previous three parameters, but for the a \"flash\" effect. It is recommended to keep these between 0 and 1. If none of these arguments are passed, the flash effect will not be applied. \n",
        "*   **custom_effects** - List of custom, user-defined effects to apply (See **B.4**)\n",
        "\n",
        "##### **Video Parameters**\n",
        "\n",
        "*   **resolution** - Self-explanatory. Low resolutions are recommended for \"trial\" renders. If none is passed, unaltered high-resolution images will be used.\n",
        "*   **start** (*Default: 0*) - Starting timestamp in seconds.\n",
        "*   **duration** - Video duration in seconds. If none is passed, full duration of audio will be used.\n",
        "*   **output_audio** - Final output audio of the video. Overwrites audio from \"song\" parameter if provided (See **B.5**)\n",
        "*   **fps** (*Default: 43*) - Video Frames Per Second. \n",
        "*   **save_frames** (*Default: False*) - If true, saved all individual video frames on disk.\n",
        "\n",
        "##### **Other**\n",
        "\n",
        "*   **batch_size** (*Default: 1*) - Determines how many vectors are simoultaneously fed to the model. Typically, larger batch sizes will output less clearly-defined images.\n",
        "\n"
      ]
    },
    {
      "cell_type": "markdown",
      "metadata": {
        "id": "6ARd-chd2dCm"
      },
      "source": [
        "#### Example 1 \n",
        "\n",
        "This is a simple example whose appeal lies mostly in how it utilizes Motion.\n",
        "\n",
        "The song used here is **Pancake Feet by Tennysson**. As usual, you can watch the official music video [here](https://youtu.be/_ODm4UZGh7g), or listen to them on [Spotify](https://open.spotify.com/artist/3Nb8N20WChM0swo5qWTvm8?si=oUZ2uV7eQH2ieMucvL_vgA)!\n",
        "\n",
        "Click [here](https://youtu.be/ztWCMm9cExY) to view a full-length sample video without having to run the code."
      ]
    },
    {
      "cell_type": "markdown",
      "metadata": {
        "id": "GAy9aNsg_JYq"
      },
      "source": [
        "#### Example 2\n",
        "\n",
        "This is another simple example that combines subtle Pulse, Motion, Contrast, and Flash reactions to complement the overall trippy style. \n",
        "\n",
        "The style weights used here are from a model trained by **Jeremy Torman**. You can check out his artworks on [Twitter](https://twitter.com/tormanjeremy), or see details on his [original Reddit post](https://www.reddit.com/r/deepdream/comments/leqwxs/stylegan2ada_pickle_file_in_comments_with_colab/) if you're interested!\n",
        "\n",
        "The song, meanwhile, is **Raspberry by Saje**. You can listen to the full track on [YouTube](https://www.youtube.com/watch?v=fOLxvL0_aMU) or [Spotify](https://open.spotify.com/artist/3I2596dGk4K3e4qKjwpzQb?si=TbyjmQuAQRWmrE--lNTRMg). \n",
        "\n",
        "Click [here](https://youtu.be/iEFqcMrszH0) to view a full-length sample video without having to run the code."
      ]
    },
    {
      "cell_type": "code",
      "metadata": {
        "id": "vGvz9tH_CXrf",
        "colab": {
          "base_uri": "https://localhost:8080/",
          "height": 555
        },
        "outputId": "d6f5e03d-a5f8-4e98-93e0-5c519c637506"
      },
      "source": [
        "# Download Style Weights \n",
        "! gdown --id 19hNptJSXji_9h7DMJBVlEMe-izWXvkYQ\n",
        "\n",
        "L = LucidSonicDream(song = 'I Am Anomaly - Elevator Music .mp3',\n",
        "                    style = 'network-snapshot-000144.pkl')\n",
        "\n",
        "L.hallucinate(file_name = 'I Am Anomaly - Elevator Music.mp4',\n",
        "              resolution = 360,\n",
        "              duration = 60,\n",
        "              pulse_react = 1.2,\n",
        "              motion_react = 0.7,\n",
        "              contrast_strength = 0.5,\n",
        "              flash_strength = 0.5)\n",
        "\n",
        "files.download(\"I Am Anomaly - Elevator Music.mp4\")"
      ],
      "execution_count": null,
      "outputs": [
        {
          "output_type": "stream",
          "name": "stdout",
          "text": [
            "/usr/local/lib/python3.7/dist-packages/gdown/cli.py:131: FutureWarning: Option `--id` was deprecated in version 4.3.1 and will be removed in 5.0. You don't need to pass it anymore to use a file ID.\n",
            "  category=FutureWarning,\n",
            "Downloading...\n",
            "From: https://drive.google.com/uc?id=19hNptJSXji_9h7DMJBVlEMe-izWXvkYQ\n",
            "To: /content/VisionaryArt.mp3.pkl\n",
            "100% 369M/369M [00:03<00:00, 103MB/s]\n",
            "Preparing style...\n",
            "Setting up TensorFlow plugin \"fused_bias_act.cu\": Compiling... Loading... Done.\n",
            "Preparing audio...\n",
            "Loading effects...\n",
            "\n",
            "\n",
            "Doing math...\n",
            "\n",
            "\n",
            "\n",
            "Hallucinating... \n",
            "\n"
          ]
        },
        {
          "output_type": "stream",
          "name": "stderr",
          "text": [
            "\r  0%|          | 0/2584 [00:00<?, ?it/s]"
          ]
        },
        {
          "output_type": "stream",
          "name": "stdout",
          "text": [
            "Setting up TensorFlow plugin \"upfirdn_2d.cu\": Compiling... Loading... Done.\n"
          ]
        },
        {
          "output_type": "stream",
          "name": "stderr",
          "text": [
            "100%|██████████| 2584/2584 [04:56<00:00,  8.73it/s]\n"
          ]
        },
        {
          "output_type": "stream",
          "name": "stdout",
          "text": [
            "[MoviePy] >>>> Building video I Am Anomaly - Elevator Music.mp4\n",
            "[MoviePy] Writing audio in I Am Anomaly - Elevator MusicTEMP_MPY_wvf_snd.mp4\n"
          ]
        },
        {
          "output_type": "stream",
          "name": "stderr",
          "text": [
            "100%|██████████| 1324/1324 [00:02<00:00, 478.92it/s]"
          ]
        },
        {
          "output_type": "stream",
          "name": "stdout",
          "text": [
            "[MoviePy] Done.\n",
            "[MoviePy] Writing video I Am Anomaly - Elevator Music.mp4\n"
          ]
        },
        {
          "output_type": "stream",
          "name": "stderr",
          "text": [
            "\n",
            "100%|██████████| 2584/2584 [00:27<00:00, 93.56it/s]\n"
          ]
        },
        {
          "output_type": "stream",
          "name": "stdout",
          "text": [
            "[MoviePy] Done.\n",
            "[MoviePy] >>>> Video ready: I Am Anomaly - Elevator Music.mp4 \n",
            "\n"
          ]
        },
        {
          "output_type": "display_data",
          "data": {
            "text/plain": [
              "<IPython.core.display.Javascript object>"
            ],
            "application/javascript": [
              "\n",
              "    async function download(id, filename, size) {\n",
              "      if (!google.colab.kernel.accessAllowed) {\n",
              "        return;\n",
              "      }\n",
              "      const div = document.createElement('div');\n",
              "      const label = document.createElement('label');\n",
              "      label.textContent = `Downloading \"${filename}\": `;\n",
              "      div.appendChild(label);\n",
              "      const progress = document.createElement('progress');\n",
              "      progress.max = size;\n",
              "      div.appendChild(progress);\n",
              "      document.body.appendChild(div);\n",
              "\n",
              "      const buffers = [];\n",
              "      let downloaded = 0;\n",
              "\n",
              "      const channel = await google.colab.kernel.comms.open(id);\n",
              "      // Send a message to notify the kernel that we're ready.\n",
              "      channel.send({})\n",
              "\n",
              "      for await (const message of channel.messages) {\n",
              "        // Send a message to notify the kernel that we're ready.\n",
              "        channel.send({})\n",
              "        if (message.buffers) {\n",
              "          for (const buffer of message.buffers) {\n",
              "            buffers.push(buffer);\n",
              "            downloaded += buffer.byteLength;\n",
              "            progress.value = downloaded;\n",
              "          }\n",
              "        }\n",
              "      }\n",
              "      const blob = new Blob(buffers, {type: 'application/binary'});\n",
              "      const a = document.createElement('a');\n",
              "      a.href = window.URL.createObjectURL(blob);\n",
              "      a.download = filename;\n",
              "      div.appendChild(a);\n",
              "      a.click();\n",
              "      div.remove();\n",
              "    }\n",
              "  "
            ]
          },
          "metadata": {}
        },
        {
          "output_type": "display_data",
          "data": {
            "text/plain": [
              "<IPython.core.display.Javascript object>"
            ],
            "application/javascript": [
              "download(\"download_7ad55502-29b8-458b-bef4-9f5d98e57c8c\", \"I Am Anomaly - Elevator Music.mp4\", 3578511)"
            ]
          },
          "metadata": {}
        }
      ]
    },
    {
      "cell_type": "markdown",
      "metadata": {
        "id": "EraHol-d3FLb"
      },
      "source": [
        "#### Example 3\n",
        "\n",
        "This is a much more complex example that utilizes multiple audio tracks and more fine-tuned parameters. It takes advantage of isolated audio tracks for cleaner Pulse, Class, and Contrast reactions.\n",
        "\n",
        "Note: Numerical labels for classes using the WikiArt style can be found [here](https://colab.research.google.com/github/Norod/my-colab-experiments/blob/master/WikiArt_Example_Generation_By_Peter_Baylies.ipynb). \n",
        "\n",
        "Click [here](https://youtu.be/l-nGC-ve7sI) to view a full-length sample video without having to run the code."
      ]
    }
  ]
}